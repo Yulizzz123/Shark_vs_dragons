{
 "cells": [
  {
   "cell_type": "markdown",
   "metadata": {},
   "source": [
    "# Importing necessary libraries"
   ]
  },
  {
   "cell_type": "code",
   "execution_count": 27,
   "metadata": {},
   "outputs": [],
   "source": [
    "import pandas as pd\n",
    "import requests\n",
    "import bs4\n",
    "import re\n",
    "import datetime"
   ]
  },
  {
   "cell_type": "markdown",
   "metadata": {},
   "source": [
    "# Extracting the html code"
   ]
  },
  {
   "cell_type": "code",
   "execution_count": 28,
   "metadata": {},
   "outputs": [],
   "source": [
    "url = \"https://en.wikipedia.org/wiki/Dragons%27_Den_(British_TV_programme)#Statistics\""
   ]
  },
  {
   "cell_type": "code",
   "execution_count": 29,
   "metadata": {},
   "outputs": [],
   "source": [
    "resp = requests.get(url).text"
   ]
  },
  {
   "cell_type": "code",
   "execution_count": 30,
   "metadata": {},
   "outputs": [],
   "source": [
    "soup = bs4.BeautifulSoup(resp, \"html.parser\")"
   ]
  },
  {
   "cell_type": "markdown",
   "metadata": {},
   "source": [
    "# Extracting the data"
   ]
  },
  {
   "cell_type": "code",
   "execution_count": 31,
   "metadata": {},
   "outputs": [],
   "source": [
    "tables_list = soup.find_all(\"table\",{\"class\":\"wikitable sortable\"})\n"
   ]
  },
  {
   "cell_type": "code",
   "execution_count": 32,
   "metadata": {},
   "outputs": [],
   "source": [
    "header_list = [th.text.rstrip() for th in tables_list[1].find_all(\"th\")]\n",
    "header_list.append(\"Season\")"
   ]
  },
  {
   "cell_type": "code",
   "execution_count": 33,
   "metadata": {},
   "outputs": [],
   "source": [
    "\n",
    "c1 = []\n",
    "c2 = []\n",
    "c3 = []\n",
    "c4 = []\n",
    "c5 = []\n",
    "c6 = []  \n",
    "c7 = []\n",
    "c8 = []\n",
    "c9 = []\n",
    "c10 = []\n",
    "lists = [c1,c2,c3,c4,c5,c6,c7,c8,c9,c10]\n",
    "\n",
    "\n",
    "\n",
    "for i in range(13):# Because we have 17 tables we would like to extract and it starts with the seconde table in our list\n",
    "    table = tables_list[i+1].find_all(\"tr\")\n",
    "    for row in table:\n",
    "        cells = row.find_all(\"td\")\n",
    "        if len(cells) == 9:\n",
    "            c1.append(cells[0].find(text=True).replace(r'Episode',''))\n",
    "            c2.append(cells[1].find(text=True))\n",
    "            c3.append(cells[2].find(text=True))\n",
    "            c4.append(cells[3].find(text=True))\n",
    "            c5.append(cells[4].find(text=True))\n",
    "            c6.append(cells[5].find(text=True))\n",
    "            c7.append(cells[6].find(text=True))\n",
    "            c8.append(cells[7].find(text=True))\n",
    "            c9.append(cells[8].text)\n",
    "            c10.append(i+1)"
   ]
  },
  {
   "cell_type": "code",
   "execution_count": 34,
   "metadata": {},
   "outputs": [],
   "source": [
    "dictionnary = {i:j for i,j in zip(header_list, lists)}"
   ]
  },
  {
   "cell_type": "code",
   "execution_count": 35,
   "metadata": {},
   "outputs": [],
   "source": [
    "df_shark_tank_table = pd.DataFrame(dictionnary)"
   ]
  },
  {
   "cell_type": "code",
   "execution_count": 36,
   "metadata": {},
   "outputs": [],
   "source": [
    "df_shark_tank_table = df_shark_tank_table.replace(r'\\n','', regex=True).replace(r\"\\[\\d+]\",'', regex=True)"
   ]
  },
  {
   "cell_type": "markdown",
   "metadata": {},
   "source": [
    "## Getting current GBP to USD exchange rate from api"
   ]
  },
  {
   "cell_type": "code",
   "execution_count": 37,
   "metadata": {},
   "outputs": [],
   "source": [
    "rate_GBP_USD = requests.get('https://api.exchangeratesapi.io/latest?base=GBP&symbols=USD')"
   ]
  },
  {
   "cell_type": "code",
   "execution_count": 38,
   "metadata": {},
   "outputs": [
    {
     "data": {
      "text/plain": [
       "{'rates': {'USD': 1.3144163229}, 'base': 'GBP', 'date': '2020-08-26'}"
      ]
     },
     "execution_count": 38,
     "metadata": {},
     "output_type": "execute_result"
    }
   ],
   "source": [
    "resp_data = rate_GBP_USD.json()\n",
    "resp_data"
   ]
  },
  {
   "cell_type": "code",
   "execution_count": 39,
   "metadata": {},
   "outputs": [],
   "source": [
    "rate = resp_data['rates']['USD']"
   ]
  },
  {
   "cell_type": "markdown",
   "metadata": {},
   "source": [
    "## Converting the column Money requested in £ to $"
   ]
  },
  {
   "cell_type": "code",
   "execution_count": 40,
   "metadata": {},
   "outputs": [],
   "source": [
    "df_shark_tank_table[\"Money requested (£)\"] = df_shark_tank_table[\"Money requested (£)\"].replace(r\",\", \"\", regex=True).astype(float)"
   ]
  },
  {
   "cell_type": "code",
   "execution_count": 41,
   "metadata": {},
   "outputs": [],
   "source": [
    "df_shark_tank_table[\"Money requested (£)\"] = round(df_shark_tank_table[\"Money requested (£)\"] * rate).astype(int)"
   ]
  },
  {
   "cell_type": "markdown",
   "metadata": {},
   "source": [
    "## Changing the name of the columns to fit the naming convention"
   ]
  },
  {
   "cell_type": "code",
   "execution_count": 42,
   "metadata": {},
   "outputs": [],
   "source": [
    "df_shark_tank_table = df_shark_tank_table.rename(columns={\"Money requested (£)\": \"money_requested_converted_$\", \"%\" : \"stake_in_%_sold\", \"Website and Fate\" : \"fate\"})"
   ]
  },
  {
   "cell_type": "code",
   "execution_count": 43,
   "metadata": {},
   "outputs": [],
   "source": [
    "df_shark_tank_table.columns = df_shark_tank_table.columns.str.lower().str.replace(r\" \", \"_\")"
   ]
  },
  {
   "cell_type": "markdown",
   "metadata": {},
   "source": [
    "## Deleting everything in parentheses in the fate column"
   ]
  },
  {
   "cell_type": "code",
   "execution_count": 44,
   "metadata": {},
   "outputs": [
    {
     "data": {
      "text/html": [
       "<div>\n",
       "<style scoped>\n",
       "    .dataframe tbody tr th:only-of-type {\n",
       "        vertical-align: middle;\n",
       "    }\n",
       "\n",
       "    .dataframe tbody tr th {\n",
       "        vertical-align: top;\n",
       "    }\n",
       "\n",
       "    .dataframe thead th {\n",
       "        text-align: right;\n",
       "    }\n",
       "</style>\n",
       "<table border=\"1\" class=\"dataframe\">\n",
       "  <thead>\n",
       "    <tr style=\"text-align: right;\">\n",
       "      <th></th>\n",
       "      <th>episode</th>\n",
       "      <th>first_aired</th>\n",
       "      <th>entrepreneur(s)</th>\n",
       "      <th>company_or_product_name</th>\n",
       "      <th>money_requested_converted_$</th>\n",
       "      <th>stake_in_%_sold</th>\n",
       "      <th>description_of_product</th>\n",
       "      <th>investing_dragon(s)</th>\n",
       "      <th>fate</th>\n",
       "      <th>season</th>\n",
       "    </tr>\n",
       "  </thead>\n",
       "  <tbody>\n",
       "    <tr>\n",
       "      <th>0</th>\n",
       "      <td>1</td>\n",
       "      <td>4 January 2005</td>\n",
       "      <td>Charles Ejogo</td>\n",
       "      <td>Umbrolly</td>\n",
       "      <td>197162</td>\n",
       "      <td>40</td>\n",
       "      <td>Multimedia vending unit selling umbrellas and ...</td>\n",
       "      <td>Duncan Bannatyne &amp; Peter Jones</td>\n",
       "      <td>dissolved</td>\n",
       "      <td>1</td>\n",
       "    </tr>\n",
       "    <tr>\n",
       "      <th>1</th>\n",
       "      <td>2</td>\n",
       "      <td>11 January 2005</td>\n",
       "      <td>Tracey Ann Graily</td>\n",
       "      <td>Grails Ltd</td>\n",
       "      <td>157730</td>\n",
       "      <td>40</td>\n",
       "      <td>Tailor-made suits for businesswomen</td>\n",
       "      <td>Doug Richard &amp; Rachel Elnaugh</td>\n",
       "      <td>dissolved</td>\n",
       "      <td>1</td>\n",
       "    </tr>\n",
       "    <tr>\n",
       "      <th>2</th>\n",
       "      <td>3</td>\n",
       "      <td>18 January 2005</td>\n",
       "      <td>Tracie Herrtage</td>\n",
       "      <td>LE BEANOCK.COM</td>\n",
       "      <td>70978</td>\n",
       "      <td>49</td>\n",
       "      <td>A beanbag hammock</td>\n",
       "      <td>Rachel Elnaugh</td>\n",
       "      <td>no equity, active</td>\n",
       "      <td>1</td>\n",
       "    </tr>\n",
       "    <tr>\n",
       "      <th>3</th>\n",
       "      <td>3</td>\n",
       "      <td>18 January 2005</td>\n",
       "      <td>John and Phillip Petty</td>\n",
       "      <td>IV Cam, Industrial Control Systems</td>\n",
       "      <td>65721</td>\n",
       "      <td>30</td>\n",
       "      <td>A 3D measuring system using camera technology</td>\n",
       "      <td>Peter Jones &amp; Doug Richard</td>\n",
       "      <td>no equity, active</td>\n",
       "      <td>1</td>\n",
       "    </tr>\n",
       "    <tr>\n",
       "      <th>4</th>\n",
       "      <td>4</td>\n",
       "      <td>25 January 2005</td>\n",
       "      <td>Paul Thomas</td>\n",
       "      <td>Mycorrhizal Systems</td>\n",
       "      <td>98581</td>\n",
       "      <td>25</td>\n",
       "      <td>Land for a truffle farm</td>\n",
       "      <td>Simon Woodroffe</td>\n",
       "      <td>deal failed, active</td>\n",
       "      <td>1</td>\n",
       "    </tr>\n",
       "  </tbody>\n",
       "</table>\n",
       "</div>"
      ],
      "text/plain": [
       "  episode      first_aired         entrepreneur(s)  \\\n",
       "0       1   4 January 2005           Charles Ejogo   \n",
       "1       2  11 January 2005       Tracey Ann Graily   \n",
       "2       3  18 January 2005         Tracie Herrtage   \n",
       "3       3  18 January 2005  John and Phillip Petty   \n",
       "4       4  25 January 2005             Paul Thomas   \n",
       "\n",
       "              company_or_product_name  money_requested_converted_$  \\\n",
       "0                            Umbrolly                       197162   \n",
       "1                          Grails Ltd                       157730   \n",
       "2                      LE BEANOCK.COM                        70978   \n",
       "3  IV Cam, Industrial Control Systems                        65721   \n",
       "4                 Mycorrhizal Systems                        98581   \n",
       "\n",
       "  stake_in_%_sold                             description_of_product  \\\n",
       "0              40  Multimedia vending unit selling umbrellas and ...   \n",
       "1              40                Tailor-made suits for businesswomen   \n",
       "2              49                                  A beanbag hammock   \n",
       "3              30      A 3D measuring system using camera technology   \n",
       "4              25                            Land for a truffle farm   \n",
       "\n",
       "              investing_dragon(s)                   fate  season  \n",
       "0  Duncan Bannatyne & Peter Jones             dissolved        1  \n",
       "1   Doug Richard & Rachel Elnaugh             dissolved        1  \n",
       "2                  Rachel Elnaugh     no equity, active        1  \n",
       "3      Peter Jones & Doug Richard     no equity, active        1  \n",
       "4                 Simon Woodroffe   deal failed, active        1  "
      ]
     },
     "execution_count": 44,
     "metadata": {},
     "output_type": "execute_result"
    }
   ],
   "source": [
    "df_shark_tank_table[\"fate\"] = df_shark_tank_table[\"fate\"].replace(r'\\(.+\\)','', regex=True)\n",
    "df_shark_tank_table.loc[df_shark_tank_table['fate'] == \"\", 'fate'] = 'active'\n",
    "df_shark_tank_table.head()"
   ]
  },
  {
   "cell_type": "markdown",
   "metadata": {},
   "source": [
    "# Exporting the DataFrame as a .csv file"
   ]
  },
  {
   "cell_type": "code",
   "execution_count": 45,
   "metadata": {},
   "outputs": [],
   "source": [
    "df_shark_tank_table.to_csv('Dragons_den_web_scrape_wikipedia.csv', index = False)"
   ]
  },
  {
   "cell_type": "code",
   "execution_count": null,
   "metadata": {},
   "outputs": [],
   "source": []
  },
  {
   "cell_type": "code",
   "execution_count": null,
   "metadata": {},
   "outputs": [],
   "source": []
  }
 ],
 "metadata": {
  "kernelspec": {
   "display_name": "Python 3",
   "language": "python",
   "name": "python3"
  },
  "language_info": {
   "codemirror_mode": {
    "name": "ipython",
    "version": 3
   },
   "file_extension": ".py",
   "mimetype": "text/x-python",
   "name": "python",
   "nbconvert_exporter": "python",
   "pygments_lexer": "ipython3",
   "version": "3.8.5"
  }
 },
 "nbformat": 4,
 "nbformat_minor": 4
}
